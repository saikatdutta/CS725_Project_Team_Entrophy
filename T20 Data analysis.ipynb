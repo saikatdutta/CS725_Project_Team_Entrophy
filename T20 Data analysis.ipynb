{
 "cells": [
  {
   "cell_type": "code",
   "execution_count": 2,
   "metadata": {},
   "outputs": [
    {
     "name": "stdout",
     "output_type": "stream",
     "text": [
      "3002\n"
     ]
    }
   ],
   "source": [
    "# Import JSON filepaths\n",
    "import os\n",
    "\n",
    "# load and process data\n",
    "path = os.path.join(os.getcwd(), 't20s_json')\n",
    "json_files = []\n",
    "json_file_path = []\n",
    "\n",
    "for filename in os.listdir(path):\n",
    "    if filename.endswith(\".json\"):\n",
    "        json_files.append(filename)\n",
    "        json_file_path.append(path + \"\\\\\" + filename)\n",
    "print (len(json_file_path))\n"
   ]
  },
  {
   "cell_type": "code",
   "execution_count": 50,
   "metadata": {},
   "outputs": [
    {
     "ename": "KeyError",
     "evalue": "'by'",
     "output_type": "error",
     "traceback": [
      "\u001b[1;31m---------------------------------------------------------------------------\u001b[0m",
      "\u001b[1;31mKeyError\u001b[0m                                  Traceback (most recent call last)",
      "\u001b[1;32mc:\\Users\\ACER\\Desktop\\IITB MS by research\\FML 725\\Course Project\\T20 Data analysis.ipynb Cell 2\u001b[0m line \u001b[0;36m2\n\u001b[0;32m     <a href='vscode-notebook-cell:/c%3A/Users/ACER/Desktop/IITB%20MS%20by%20research/FML%20725/Course%20Project/T20%20Data%20analysis.ipynb#W4sZmlsZQ%3D%3D?line=17'>18</a>\u001b[0m \u001b[39mif\u001b[39;00m \u001b[39m\"\u001b[39m\u001b[39mwinner\u001b[39m\u001b[39m\"\u001b[39m \u001b[39min\u001b[39;00m outcome:    \n\u001b[0;32m     <a href='vscode-notebook-cell:/c%3A/Users/ACER/Desktop/IITB%20MS%20by%20research/FML%20725/Course%20Project/T20%20Data%20analysis.ipynb#W4sZmlsZQ%3D%3D?line=18'>19</a>\u001b[0m     winner\u001b[39m.\u001b[39mappend(outcome)\n\u001b[1;32m---> <a href='vscode-notebook-cell:/c%3A/Users/ACER/Desktop/IITB%20MS%20by%20research/FML%20725/Course%20Project/T20%20Data%20analysis.ipynb#W4sZmlsZQ%3D%3D?line=19'>20</a>\u001b[0m     \u001b[39mif\u001b[39;00m \u001b[39m\"\u001b[39m\u001b[39mruns\u001b[39m\u001b[39m\"\u001b[39m \u001b[39min\u001b[39;00m outcome[\u001b[39m'\u001b[39;49m\u001b[39mby\u001b[39;49m\u001b[39m'\u001b[39;49m]:\n\u001b[0;32m     <a href='vscode-notebook-cell:/c%3A/Users/ACER/Desktop/IITB%20MS%20by%20research/FML%20725/Course%20Project/T20%20Data%20analysis.ipynb#W4sZmlsZQ%3D%3D?line=20'>21</a>\u001b[0m         winner_by_runs\u001b[39m.\u001b[39mappend(outcome)\n\u001b[0;32m     <a href='vscode-notebook-cell:/c%3A/Users/ACER/Desktop/IITB%20MS%20by%20research/FML%20725/Course%20Project/T20%20Data%20analysis.ipynb#W4sZmlsZQ%3D%3D?line=21'>22</a>\u001b[0m     \u001b[39melif\u001b[39;00m \u001b[39m\"\u001b[39m\u001b[39mwickets\u001b[39m\u001b[39m\"\u001b[39m \u001b[39min\u001b[39;00m outcome[\u001b[39m'\u001b[39m\u001b[39mby\u001b[39m\u001b[39m'\u001b[39m]:\n",
      "\u001b[1;31mKeyError\u001b[0m: 'by'"
     ]
    }
   ],
   "source": [
    "# Code to check the keys in data['info']['outcome'] and save in CSV file\n",
    "result = []\n",
    "no_result = []\n",
    "result_tie = []\n",
    "result_tie_eliminator = []\n",
    "result_tie_bowl_out = []\n",
    "result_tie_method = []\n",
    "\n",
    "winner = []\n",
    "winner_by_wickets = []\n",
    "winner_by_runs = []\n",
    "winner_unknown = []\n",
    "winner_no_by = []\n",
    "\n",
    "for file_path in json_file_path:\n",
    "    with open(file_path, \"r\") as json_file:\n",
    "        data = json.load(json_file)\n",
    "        outcome = data[\"info\"]['outcome']\n",
    "        if \"winner\" in outcome:    \n",
    "            winner.append(outcome)\n",
    "            if 'by' in outcome:\n",
    "                if \"runs\" in outcome['by']:\n",
    "                    winner_by_runs.append(outcome)\n",
    "                elif \"wickets\" in outcome['by']:\n",
    "                    winner_by_wickets.append(outcome)\n",
    "                else:\n",
    "                    winner_unknown.append(outcome)\n",
    "            else:\n",
    "                winner_unknown.append(outcome)\n",
    "        elif \"result\" in outcome:\n",
    "            outcome = outcome['result']\n",
    "            result.append(outcome)\n",
    "            if outcome=='no result':\n",
    "                no_result.append(outcome)\n",
    "            if outcome=='tie':\n",
    "                if 'eliminator' in data[\"info\"]['outcome']:\n",
    "                    result_tie_eliminator.append(outcome)\n",
    "                elif 'bowl_out' in data[\"info\"]['outcome']:\n",
    "                    result_tie_bowl_out.append(outcome)\n",
    "                elif 'method' in data[\"info\"]['outcome']:\n",
    "                    result_tie_method.append(outcome)\n",
    "                \n",
    "\n",
    "                result_tie.append(data[\"info\"]['outcome'])\n",
    "        \n",
    "        #print(data['info']['outcome'])\n",
    "        #print(data['info'])\n",
    "print(result)\n",
    "print(f\"Result: {len(result)}\")\n",
    "print(no_result)\n",
    "print(len(no_result))\n",
    "print(result_tie)\n",
    "print(len(result_tie))\n",
    "\n",
    "print(result_tie_eliminator)\n",
    "print(len(result_tie_eliminator))\n",
    "print(result_tie_bowl_out)\n",
    "print(len(result_tie_bowl_out))\n",
    "print(result_tie_method)\n",
    "print(len(result_tie_method))\n",
    "\n",
    "\n",
    "print(winner)\n",
    "print(len(winner))\n",
    "print(winner_by_runs)\n",
    "print(len(winner_by_runs))\n",
    "print(winner_by_wickets)\n",
    "print(len(winner_by_wickets))\n",
    "print(winner_unknown)\n",
    "print(len(winner_unknown))\n",
    "\"\"\"\n",
    "import csv\n",
    "with open(\"data['info']['outcome'] keys.csv\", 'w', newline='') as f:\n",
    "    writer = csv.writer(f)\n",
    "    writer.writerows(result)\n",
    "\"\"\""
   ]
  },
  {
   "cell_type": "code",
   "execution_count": 40,
   "metadata": {},
   "outputs": [
    {
     "name": "stdout",
     "output_type": "stream",
     "text": [
      "[{'result': 'no result'}, {'result': 'no result'}, {'result': 'no result'}, {'result': 'no result'}, {'result': 'no result'}, {'result': 'no result'}, {'result': 'no result'}, {'result': 'no result'}, {'result': 'no result'}, {'result': 'no result'}, {'result': 'no result'}, {'result': 'no result'}, {'result': 'no result'}, {'result': 'no result'}, {'result': 'no result'}, {'result': 'no result'}, {'result': 'no result'}, {'result': 'no result'}, {'result': 'no result'}, {'result': 'no result'}, {'result': 'no result'}, {'result': 'no result'}, {'result': 'no result'}, {'result': 'no result'}, {'result': 'no result'}, {'result': 'no result'}, {'result': 'no result'}, {'result': 'no result'}, {'result': 'no result'}, {'result': 'no result'}, {'result': 'no result'}, {'result': 'no result'}, {'result': 'no result'}, {'result': 'no result'}, {'result': 'no result'}, {'result': 'no result'}, {'result': 'no result'}, {'result': 'no result'}, {'result': 'no result'}, {'result': 'no result'}, {'result': 'no result'}, {'result': 'no result'}, {'result': 'no result'}, {'result': 'no result'}, {'result': 'no result'}, {'result': 'no result'}, {'result': 'no result'}, {'result': 'no result'}, {'result': 'no result'}, {'result': 'no result'}, {'result': 'no result'}, {'result': 'no result'}, {'result': 'no result'}, {'result': 'no result'}, {'result': 'no result'}, {'result': 'no result'}, {'result': 'no result'}, {'result': 'no result'}, {'result': 'no result'}, {'result': 'no result'}, {'result': 'no result'}, {'result': 'no result'}]\n"
     ]
    }
   ],
   "source": []
  },
  {
   "cell_type": "code",
   "execution_count": 35,
   "metadata": {},
   "outputs": [
    {
     "name": "stdout",
     "output_type": "stream",
     "text": [
      "{'balls_per_over': 6, 'city': 'Cape Town', 'dates': ['2019-03-19'], 'event': {'name': 'Sri Lanka tour of South Africa', 'match_number': 1}, 'gender': 'male', 'match_type': 'T20', 'match_type_number': 755, 'officials': {'match_referees': ['AJ Pycroft'], 'reserve_umpires': ['A Paleker'], 'tv_umpires': ['S George'], 'umpires': ['BP Jele', 'AT Holdstock']}, 'outcome': {'result': 'tie', 'eliminator': 'South Africa'}, 'overs': 20, 'player_of_match': ['DA Miller'], 'players': {'Sri Lanka': ['N Dickwella', 'WIA Fernando', 'BKG Mendis', 'PHKD Mendis', 'AK Perera', 'NLTC Perera', 'DM de Silva', 'I Udana', 'A Dananjaya', 'SL Malinga', 'JDF Vandersay'], 'South Africa': ['Q de Kock', 'RR Hendricks', 'F du Plessis', 'HE van der Dussen', 'DA Miller', 'JP Duminy', 'AL Phehlukwayo', 'K Rabada', 'DW Steyn', 'Imran Tahir', 'L Sipamla']}, 'registry': {'people': {'A Dananjaya': '5b16a806', 'A Paleker': '634b11ac', 'AJ Pycroft': '685d3f80', 'AK Perera': 'c8ad0749', 'AL Phehlukwayo': 'ab6b1c45', 'AT Holdstock': '6fa3258c', 'BKG Mendis': '5d1e7582', 'BP Jele': '7bb1331e', 'DA Miller': 'd67d5f00', 'DM de Silva': '7d608e12', 'DW Steyn': '8fd1a8f5', 'F du Plessis': '3355b542', 'HE van der Dussen': '9948e262', 'I Udana': 'ac5ae4af', 'Imran Tahir': 'acee4cc4', 'JDF Vandersay': 'aceb7654', 'JP Duminy': '2e8994e7', 'K Rabada': 'e62dd25d', 'L Sipamla': 'f892fcf9', 'N Dickwella': '45963d9e', 'NLTC Perera': '0f12f9df', 'PHKD Mendis': '08548b13', 'Q de Kock': '372455c4', 'RR Hendricks': 'b8cc58c9', 'S George': '6d9e5a54', 'SL Malinga': 'a12e1d51', 'WIA Fernando': '9550470d'}}, 'season': '2018/19', 'team_type': 'international', 'teams': ['South Africa', 'Sri Lanka'], 'toss': {'decision': 'field', 'winner': 'South Africa'}, 'venue': 'Newlands'}\n"
     ]
    }
   ],
   "source": [
    "print(data['info'])"
   ]
  },
  {
   "cell_type": "code",
   "execution_count": 27,
   "metadata": {},
   "outputs": [
    {
     "ename": "KeyError",
     "evalue": "'winner'",
     "output_type": "error",
     "traceback": [
      "\u001b[1;31m---------------------------------------------------------------------------\u001b[0m",
      "\u001b[1;31mKeyError\u001b[0m                                  Traceback (most recent call last)",
      "\u001b[1;32mc:\\Users\\ACER\\Desktop\\IITB MS by research\\FML 725\\Course Project\\T20 Data analysis.ipynb Cell 3\u001b[0m line \u001b[0;36m1\n\u001b[0;32m     <a href='vscode-notebook-cell:/c%3A/Users/ACER/Desktop/IITB%20MS%20by%20research/FML%20725/Course%20Project/T20%20Data%20analysis.ipynb#W6sZmlsZQ%3D%3D?line=13'>14</a>\u001b[0m     \u001b[39m# Write the data rows\u001b[39;00m\n\u001b[0;32m     <a href='vscode-notebook-cell:/c%3A/Users/ACER/Desktop/IITB%20MS%20by%20research/FML%20725/Course%20Project/T20%20Data%20analysis.ipynb#W6sZmlsZQ%3D%3D?line=14'>15</a>\u001b[0m     \u001b[39mfor\u001b[39;00m result \u001b[39min\u001b[39;00m results:\n\u001b[1;32m---> <a href='vscode-notebook-cell:/c%3A/Users/ACER/Desktop/IITB%20MS%20by%20research/FML%20725/Course%20Project/T20%20Data%20analysis.ipynb#W6sZmlsZQ%3D%3D?line=15'>16</a>\u001b[0m         writer\u001b[39m.\u001b[39mwriterow({\u001b[39m'\u001b[39m\u001b[39mWinner\u001b[39m\u001b[39m'\u001b[39m: result[\u001b[39m'\u001b[39;49m\u001b[39mwinner\u001b[39;49m\u001b[39m'\u001b[39;49m], \u001b[39m'\u001b[39m\u001b[39mOutcome\u001b[39m\u001b[39m'\u001b[39m: result[\u001b[39m'\u001b[39m\u001b[39mby\u001b[39m\u001b[39m'\u001b[39m]})\n\u001b[0;32m     <a href='vscode-notebook-cell:/c%3A/Users/ACER/Desktop/IITB%20MS%20by%20research/FML%20725/Course%20Project/T20%20Data%20analysis.ipynb#W6sZmlsZQ%3D%3D?line=17'>18</a>\u001b[0m \u001b[39mprint\u001b[39m(\u001b[39mf\u001b[39m\u001b[39m\"\u001b[39m\u001b[39mCSV file \u001b[39m\u001b[39m'\u001b[39m\u001b[39m{\u001b[39;00mcsv_file_name\u001b[39m}\u001b[39;00m\u001b[39m'\u001b[39m\u001b[39m created with the results.\u001b[39m\u001b[39m\"\u001b[39m)\n",
      "\u001b[1;31mKeyError\u001b[0m: 'winner'"
     ]
    }
   ],
   "source": [
    "results = [] \n",
    "for file_path in json_file_path[:100]:\n",
    "    with open(file_path, \"r\") as json_file:\n",
    "        data = json.load(json_file)\n",
    "        results.append(data['info']['outcome'])\n",
    "        \n",
    "# Define the CSV file name\n",
    "csv_file_name = \"match_results.csv\"\n",
    "\n",
    "# Write the results to a CSV file\n",
    "with open(csv_file_name, mode='w', newline='') as csv_file:\n",
    "    fieldnames = ['Winner', 'Outcome']\n",
    "    writer = csv.DictWriter(csv_file, fieldnames=fieldnames)\n",
    "    # Write the data rows\n",
    "    for result in results:\n",
    "        writer.writerow({'Winner': result['winner'], 'Outcome': result['by']})\n",
    "\n",
    "print(f\"CSV file '{csv_file_name}' created with the results.\")"
   ]
  },
  {
   "cell_type": "code",
   "execution_count": 20,
   "metadata": {},
   "outputs": [
    {
     "data": {
      "text/plain": [
       "'c:\\\\Users\\\\ACER\\\\Desktop\\\\IITB MS by research\\\\FML 725\\\\Course Project\\\\t20s_json\\\\1001349.json'"
      ]
     },
     "execution_count": 20,
     "metadata": {},
     "output_type": "execute_result"
    }
   ],
   "source": [
    "json_file_path[0]"
   ]
  },
  {
   "cell_type": "code",
   "execution_count": 11,
   "metadata": {},
   "outputs": [
    {
     "ename": "KeyboardInterrupt",
     "evalue": "",
     "output_type": "error",
     "traceback": [
      "\u001b[1;31m---------------------------------------------------------------------------\u001b[0m",
      "\u001b[1;31mKeyboardInterrupt\u001b[0m                         Traceback (most recent call last)",
      "\u001b[1;32mc:\\Users\\ACER\\Desktop\\IITB MS by research\\FML 725\\Course Project\\T20 Data analysis.ipynb Cell 3\u001b[0m line \u001b[0;36m1\n\u001b[0;32m     <a href='vscode-notebook-cell:/c%3A/Users/ACER/Desktop/IITB%20MS%20by%20research/FML%20725/Course%20Project/T20%20Data%20analysis.ipynb#W1sZmlsZQ%3D%3D?line=13'>14</a>\u001b[0m toss_winner \u001b[39m=\u001b[39m data[\u001b[39m\"\u001b[39m\u001b[39minfo\u001b[39m\u001b[39m\"\u001b[39m][\u001b[39m\"\u001b[39m\u001b[39mtoss\u001b[39m\u001b[39m\"\u001b[39m][\u001b[39m\"\u001b[39m\u001b[39mwinner\u001b[39m\u001b[39m\"\u001b[39m]\n\u001b[0;32m     <a href='vscode-notebook-cell:/c%3A/Users/ACER/Desktop/IITB%20MS%20by%20research/FML%20725/Course%20Project/T20%20Data%20analysis.ipynb#W1sZmlsZQ%3D%3D?line=14'>15</a>\u001b[0m \u001b[39m# Get the match winner\u001b[39;00m\n\u001b[1;32m---> <a href='vscode-notebook-cell:/c%3A/Users/ACER/Desktop/IITB%20MS%20by%20research/FML%20725/Course%20Project/T20%20Data%20analysis.ipynb#W1sZmlsZQ%3D%3D?line=15'>16</a>\u001b[0m match_winner \u001b[39m=\u001b[39m data[\u001b[39m\"\u001b[39m\u001b[39minfo\u001b[39m\u001b[39m\"\u001b[39m][\u001b[39m\"\u001b[39m\u001b[39moutcome\u001b[39m\u001b[39m\"\u001b[39m][\u001b[39m\"\u001b[39m\u001b[39mwinner\u001b[39m\u001b[39m\"\u001b[39m]\n\u001b[0;32m     <a href='vscode-notebook-cell:/c%3A/Users/ACER/Desktop/IITB%20MS%20by%20research/FML%20725/Course%20Project/T20%20Data%20analysis.ipynb#W1sZmlsZQ%3D%3D?line=17'>18</a>\u001b[0m \u001b[39m# Determine the result based on the toss decision and match winner\u001b[39;00m\n\u001b[0;32m     <a href='vscode-notebook-cell:/c%3A/Users/ACER/Desktop/IITB%20MS%20by%20research/FML%20725/Course%20Project/T20%20Data%20analysis.ipynb#W1sZmlsZQ%3D%3D?line=18'>19</a>\u001b[0m \u001b[39mif\u001b[39;00m toss_decision \u001b[39m==\u001b[39m \u001b[39m\"\u001b[39m\u001b[39mbat\u001b[39m\u001b[39m\"\u001b[39m: \n",
      "\u001b[1;32mc:\\Users\\ACER\\Desktop\\IITB MS by research\\FML 725\\Course Project\\T20 Data analysis.ipynb Cell 3\u001b[0m line \u001b[0;36m1\n\u001b[0;32m     <a href='vscode-notebook-cell:/c%3A/Users/ACER/Desktop/IITB%20MS%20by%20research/FML%20725/Course%20Project/T20%20Data%20analysis.ipynb#W1sZmlsZQ%3D%3D?line=13'>14</a>\u001b[0m toss_winner \u001b[39m=\u001b[39m data[\u001b[39m\"\u001b[39m\u001b[39minfo\u001b[39m\u001b[39m\"\u001b[39m][\u001b[39m\"\u001b[39m\u001b[39mtoss\u001b[39m\u001b[39m\"\u001b[39m][\u001b[39m\"\u001b[39m\u001b[39mwinner\u001b[39m\u001b[39m\"\u001b[39m]\n\u001b[0;32m     <a href='vscode-notebook-cell:/c%3A/Users/ACER/Desktop/IITB%20MS%20by%20research/FML%20725/Course%20Project/T20%20Data%20analysis.ipynb#W1sZmlsZQ%3D%3D?line=14'>15</a>\u001b[0m \u001b[39m# Get the match winner\u001b[39;00m\n\u001b[1;32m---> <a href='vscode-notebook-cell:/c%3A/Users/ACER/Desktop/IITB%20MS%20by%20research/FML%20725/Course%20Project/T20%20Data%20analysis.ipynb#W1sZmlsZQ%3D%3D?line=15'>16</a>\u001b[0m match_winner \u001b[39m=\u001b[39m data[\u001b[39m\"\u001b[39m\u001b[39minfo\u001b[39m\u001b[39m\"\u001b[39m][\u001b[39m\"\u001b[39m\u001b[39moutcome\u001b[39m\u001b[39m\"\u001b[39m][\u001b[39m\"\u001b[39m\u001b[39mwinner\u001b[39m\u001b[39m\"\u001b[39m]\n\u001b[0;32m     <a href='vscode-notebook-cell:/c%3A/Users/ACER/Desktop/IITB%20MS%20by%20research/FML%20725/Course%20Project/T20%20Data%20analysis.ipynb#W1sZmlsZQ%3D%3D?line=17'>18</a>\u001b[0m \u001b[39m# Determine the result based on the toss decision and match winner\u001b[39;00m\n\u001b[0;32m     <a href='vscode-notebook-cell:/c%3A/Users/ACER/Desktop/IITB%20MS%20by%20research/FML%20725/Course%20Project/T20%20Data%20analysis.ipynb#W1sZmlsZQ%3D%3D?line=18'>19</a>\u001b[0m \u001b[39mif\u001b[39;00m toss_decision \u001b[39m==\u001b[39m \u001b[39m\"\u001b[39m\u001b[39mbat\u001b[39m\u001b[39m\"\u001b[39m: \n",
      "File \u001b[1;32m_pydevd_bundle/pydevd_cython.pyx:1457\u001b[0m, in \u001b[0;36m_pydevd_bundle.pydevd_cython.SafeCallWrapper.__call__\u001b[1;34m()\u001b[0m\n",
      "File \u001b[1;32m_pydevd_bundle/pydevd_cython.pyx:701\u001b[0m, in \u001b[0;36m_pydevd_bundle.pydevd_cython.PyDBFrame.trace_dispatch\u001b[1;34m()\u001b[0m\n",
      "File \u001b[1;32m_pydevd_bundle/pydevd_cython.pyx:1152\u001b[0m, in \u001b[0;36m_pydevd_bundle.pydevd_cython.PyDBFrame.trace_dispatch\u001b[1;34m()\u001b[0m\n",
      "File \u001b[1;32m_pydevd_bundle/pydevd_cython.pyx:1135\u001b[0m, in \u001b[0;36m_pydevd_bundle.pydevd_cython.PyDBFrame.trace_dispatch\u001b[1;34m()\u001b[0m\n",
      "File \u001b[1;32m_pydevd_bundle/pydevd_cython.pyx:312\u001b[0m, in \u001b[0;36m_pydevd_bundle.pydevd_cython.PyDBFrame.do_wait_suspend\u001b[1;34m()\u001b[0m\n",
      "File \u001b[1;32mc:\\Users\\ACER\\AppData\\Local\\Programs\\Python\\Python311\\Lib\\site-packages\\debugpy\\_vendored\\pydevd\\pydevd.py:2070\u001b[0m, in \u001b[0;36mPyDB.do_wait_suspend\u001b[1;34m(self, thread, frame, event, arg, exception_type)\u001b[0m\n\u001b[0;32m   2067\u001b[0m             from_this_thread\u001b[39m.\u001b[39mappend(frame_custom_thread_id)\n\u001b[0;32m   2069\u001b[0m     \u001b[39mwith\u001b[39;00m \u001b[39mself\u001b[39m\u001b[39m.\u001b[39m_threads_suspended_single_notification\u001b[39m.\u001b[39mnotify_thread_suspended(thread_id, thread, stop_reason):\n\u001b[1;32m-> 2070\u001b[0m         keep_suspended \u001b[39m=\u001b[39m \u001b[39mself\u001b[39;49m\u001b[39m.\u001b[39;49m_do_wait_suspend(thread, frame, event, arg, suspend_type, from_this_thread, frames_tracker)\n\u001b[0;32m   2072\u001b[0m frames_list \u001b[39m=\u001b[39m \u001b[39mNone\u001b[39;00m\n\u001b[0;32m   2074\u001b[0m \u001b[39mif\u001b[39;00m keep_suspended:\n\u001b[0;32m   2075\u001b[0m     \u001b[39m# This means that we should pause again after a set next statement.\u001b[39;00m\n",
      "File \u001b[1;32mc:\\Users\\ACER\\AppData\\Local\\Programs\\Python\\Python311\\Lib\\site-packages\\debugpy\\_vendored\\pydevd\\pydevd.py:2106\u001b[0m, in \u001b[0;36mPyDB._do_wait_suspend\u001b[1;34m(self, thread, frame, event, arg, suspend_type, from_this_thread, frames_tracker)\u001b[0m\n\u001b[0;32m   2103\u001b[0m         \u001b[39mself\u001b[39m\u001b[39m.\u001b[39m_call_input_hook()\n\u001b[0;32m   2105\u001b[0m     \u001b[39mself\u001b[39m\u001b[39m.\u001b[39mprocess_internal_commands()\n\u001b[1;32m-> 2106\u001b[0m     time\u001b[39m.\u001b[39msleep(\u001b[39m0.01\u001b[39m)\n\u001b[0;32m   2108\u001b[0m \u001b[39mself\u001b[39m\u001b[39m.\u001b[39mcancel_async_evaluation(get_current_thread_id(thread), \u001b[39mstr\u001b[39m(\u001b[39mid\u001b[39m(frame)))\n\u001b[0;32m   2110\u001b[0m \u001b[39m# process any stepping instructions\u001b[39;00m\n",
      "\u001b[1;31mKeyboardInterrupt\u001b[0m: "
     ]
    }
   ],
   "source": [
    "import json\n",
    "win_bat_first = 0\n",
    "win_bowl_first = 0\n",
    "not_clear = 0\n",
    "not_clear_toss_decision = 0\n",
    "no_toss_info = 0\n",
    "no_result = 0\n",
    "for file_path in json_file_path[22:]:\n",
    "    with open(file_path, \"r\") as json_file:\n",
    "        data = json.load(json_file)\n",
    "        teams = list(data['info']['players'].keys())\n",
    "        if \"toss\" in data[\"info\"]:\n",
    "            # Get the team that won the toss and chose to bat or bowl\n",
    "            toss_decision = data[\"info\"][\"toss\"][\"decision\"]\n",
    "            toss_winner = data[\"info\"][\"toss\"][\"winner\"]\n",
    "            # Get the match winner\n",
    "            if 'winner' in data[\"info\"][\"outcome\"]:\n",
    "                match_winner = data[\"info\"][\"outcome\"][\"winner\"]\n",
    "            elif :\n",
    "\n",
    "\n",
    "            # Determine the result based on the toss decision and match winner\n",
    "            if toss_decision == \"bat\": \n",
    "                if toss_winner == teams[0] and match_winner == teams[0]:\n",
    "                    win_bat_first += 1\n",
    "                elif toss_winner == teams[1] and match_winner == teams[1]:\n",
    "                    win_bat_first += 1\n",
    "                elif toss_winner == teams[0] and match_winner == teams[1]:\n",
    "                    win_bowl_first += 1\n",
    "                elif toss_winner == teams[1] and match_winner == teams[0]:\n",
    "                    win_bowl_first += 1\n",
    "                else:\n",
    "                    not_clear += 1\n",
    "\n",
    "            elif toss_decision == \"bowl\" or toss_decision == \"field\": \n",
    "                if toss_winner == teams[0] and match_winner == teams[0]:\n",
    "                    win_bowl_first += 1\n",
    "                elif toss_winner == teams[1] and match_winner == teams[1]:\n",
    "                    win_bowl_first += 1\n",
    "                elif toss_winner == teams[0] and match_winner == teams[1]:\n",
    "                    win_bat_first += 1\n",
    "                elif toss_winner == teams[1] and match_winner == teams[0]:\n",
    "                    win_bat_first += 1\n",
    "                else:\n",
    "                    not_clear += 1\n",
    "\n",
    "            else:\n",
    "                not_clear_toss_decision += 1\n",
    "        else:\n",
    "            no_toss_info += 1     "
   ]
  },
  {
   "cell_type": "code",
   "execution_count": null,
   "metadata": {},
   "outputs": [
    {
     "ename": "JSONDecodeError",
     "evalue": "Expecting property name enclosed in double quotes: line 2 column 3 (char 3)",
     "output_type": "error",
     "traceback": [
      "\u001b[1;31m---------------------------------------------------------------------------\u001b[0m",
      "\u001b[1;31mJSONDecodeError\u001b[0m                           Traceback (most recent call last)",
      "\u001b[1;32mc:\\Users\\ACER\\Desktop\\IITB MS by research\\FML 725\\Course Project\\T20 Data analysis.ipynb Cell 2\u001b[0m line \u001b[0;36m9\n\u001b[0;32m      <a href='vscode-notebook-cell:/c%3A/Users/ACER/Desktop/IITB%20MS%20by%20research/FML%20725/Course%20Project/T20%20Data%20analysis.ipynb#W1sZmlsZQ%3D%3D?line=3'>4</a>\u001b[0m json_data \u001b[39m=\u001b[39m \u001b[39m'''\u001b[39m\n\u001b[0;32m      <a href='vscode-notebook-cell:/c%3A/Users/ACER/Desktop/IITB%20MS%20by%20research/FML%20725/Course%20Project/T20%20Data%20analysis.ipynb#W1sZmlsZQ%3D%3D?line=4'>5</a>\u001b[0m \u001b[39m{\u001b[39m\u001b[39m ... }  # Your JSON data goes here\u001b[39m\n\u001b[0;32m      <a href='vscode-notebook-cell:/c%3A/Users/ACER/Desktop/IITB%20MS%20by%20research/FML%20725/Course%20Project/T20%20Data%20analysis.ipynb#W1sZmlsZQ%3D%3D?line=5'>6</a>\u001b[0m \u001b[39m'''\u001b[39m\n\u001b[0;32m      <a href='vscode-notebook-cell:/c%3A/Users/ACER/Desktop/IITB%20MS%20by%20research/FML%20725/Course%20Project/T20%20Data%20analysis.ipynb#W1sZmlsZQ%3D%3D?line=7'>8</a>\u001b[0m \u001b[39m# Parse the JSON data\u001b[39;00m\n\u001b[1;32m----> <a href='vscode-notebook-cell:/c%3A/Users/ACER/Desktop/IITB%20MS%20by%20research/FML%20725/Course%20Project/T20%20Data%20analysis.ipynb#W1sZmlsZQ%3D%3D?line=8'>9</a>\u001b[0m data \u001b[39m=\u001b[39m json\u001b[39m.\u001b[39;49mloads(json_data)\n\u001b[0;32m     <a href='vscode-notebook-cell:/c%3A/Users/ACER/Desktop/IITB%20MS%20by%20research/FML%20725/Course%20Project/T20%20Data%20analysis.ipynb#W1sZmlsZQ%3D%3D?line=10'>11</a>\u001b[0m \u001b[39m# Get the team that won the toss and chose to bat or bowl\u001b[39;00m\n\u001b[0;32m     <a href='vscode-notebook-cell:/c%3A/Users/ACER/Desktop/IITB%20MS%20by%20research/FML%20725/Course%20Project/T20%20Data%20analysis.ipynb#W1sZmlsZQ%3D%3D?line=11'>12</a>\u001b[0m toss_decision \u001b[39m=\u001b[39m data[\u001b[39m\"\u001b[39m\u001b[39mtoss\u001b[39m\u001b[39m\"\u001b[39m][\u001b[39m\"\u001b[39m\u001b[39mdecision\u001b[39m\u001b[39m\"\u001b[39m]\n",
      "File \u001b[1;32mc:\\Users\\ACER\\AppData\\Local\\Programs\\Python\\Python311\\Lib\\json\\__init__.py:346\u001b[0m, in \u001b[0;36mloads\u001b[1;34m(s, cls, object_hook, parse_float, parse_int, parse_constant, object_pairs_hook, **kw)\u001b[0m\n\u001b[0;32m    341\u001b[0m     s \u001b[39m=\u001b[39m s\u001b[39m.\u001b[39mdecode(detect_encoding(s), \u001b[39m'\u001b[39m\u001b[39msurrogatepass\u001b[39m\u001b[39m'\u001b[39m)\n\u001b[0;32m    343\u001b[0m \u001b[39mif\u001b[39;00m (\u001b[39mcls\u001b[39m \u001b[39mis\u001b[39;00m \u001b[39mNone\u001b[39;00m \u001b[39mand\u001b[39;00m object_hook \u001b[39mis\u001b[39;00m \u001b[39mNone\u001b[39;00m \u001b[39mand\u001b[39;00m\n\u001b[0;32m    344\u001b[0m         parse_int \u001b[39mis\u001b[39;00m \u001b[39mNone\u001b[39;00m \u001b[39mand\u001b[39;00m parse_float \u001b[39mis\u001b[39;00m \u001b[39mNone\u001b[39;00m \u001b[39mand\u001b[39;00m\n\u001b[0;32m    345\u001b[0m         parse_constant \u001b[39mis\u001b[39;00m \u001b[39mNone\u001b[39;00m \u001b[39mand\u001b[39;00m object_pairs_hook \u001b[39mis\u001b[39;00m \u001b[39mNone\u001b[39;00m \u001b[39mand\u001b[39;00m \u001b[39mnot\u001b[39;00m kw):\n\u001b[1;32m--> 346\u001b[0m     \u001b[39mreturn\u001b[39;00m _default_decoder\u001b[39m.\u001b[39;49mdecode(s)\n\u001b[0;32m    347\u001b[0m \u001b[39mif\u001b[39;00m \u001b[39mcls\u001b[39m \u001b[39mis\u001b[39;00m \u001b[39mNone\u001b[39;00m:\n\u001b[0;32m    348\u001b[0m     \u001b[39mcls\u001b[39m \u001b[39m=\u001b[39m JSONDecoder\n",
      "File \u001b[1;32mc:\\Users\\ACER\\AppData\\Local\\Programs\\Python\\Python311\\Lib\\json\\decoder.py:337\u001b[0m, in \u001b[0;36mJSONDecoder.decode\u001b[1;34m(self, s, _w)\u001b[0m\n\u001b[0;32m    332\u001b[0m \u001b[39mdef\u001b[39;00m \u001b[39mdecode\u001b[39m(\u001b[39mself\u001b[39m, s, _w\u001b[39m=\u001b[39mWHITESPACE\u001b[39m.\u001b[39mmatch):\n\u001b[0;32m    333\u001b[0m \u001b[39m    \u001b[39m\u001b[39m\"\"\"Return the Python representation of ``s`` (a ``str`` instance\u001b[39;00m\n\u001b[0;32m    334\u001b[0m \u001b[39m    containing a JSON document).\u001b[39;00m\n\u001b[0;32m    335\u001b[0m \n\u001b[0;32m    336\u001b[0m \u001b[39m    \"\"\"\u001b[39;00m\n\u001b[1;32m--> 337\u001b[0m     obj, end \u001b[39m=\u001b[39m \u001b[39mself\u001b[39;49m\u001b[39m.\u001b[39;49mraw_decode(s, idx\u001b[39m=\u001b[39;49m_w(s, \u001b[39m0\u001b[39;49m)\u001b[39m.\u001b[39;49mend())\n\u001b[0;32m    338\u001b[0m     end \u001b[39m=\u001b[39m _w(s, end)\u001b[39m.\u001b[39mend()\n\u001b[0;32m    339\u001b[0m     \u001b[39mif\u001b[39;00m end \u001b[39m!=\u001b[39m \u001b[39mlen\u001b[39m(s):\n",
      "File \u001b[1;32mc:\\Users\\ACER\\AppData\\Local\\Programs\\Python\\Python311\\Lib\\json\\decoder.py:353\u001b[0m, in \u001b[0;36mJSONDecoder.raw_decode\u001b[1;34m(self, s, idx)\u001b[0m\n\u001b[0;32m    344\u001b[0m \u001b[39m\u001b[39m\u001b[39m\"\"\"Decode a JSON document from ``s`` (a ``str`` beginning with\u001b[39;00m\n\u001b[0;32m    345\u001b[0m \u001b[39ma JSON document) and return a 2-tuple of the Python\u001b[39;00m\n\u001b[0;32m    346\u001b[0m \u001b[39mrepresentation and the index in ``s`` where the document ended.\u001b[39;00m\n\u001b[1;32m   (...)\u001b[0m\n\u001b[0;32m    350\u001b[0m \n\u001b[0;32m    351\u001b[0m \u001b[39m\"\"\"\u001b[39;00m\n\u001b[0;32m    352\u001b[0m \u001b[39mtry\u001b[39;00m:\n\u001b[1;32m--> 353\u001b[0m     obj, end \u001b[39m=\u001b[39m \u001b[39mself\u001b[39;49m\u001b[39m.\u001b[39;49mscan_once(s, idx)\n\u001b[0;32m    354\u001b[0m \u001b[39mexcept\u001b[39;00m \u001b[39mStopIteration\u001b[39;00m \u001b[39mas\u001b[39;00m err:\n\u001b[0;32m    355\u001b[0m     \u001b[39mraise\u001b[39;00m JSONDecodeError(\u001b[39m\"\u001b[39m\u001b[39mExpecting value\u001b[39m\u001b[39m\"\u001b[39m, s, err\u001b[39m.\u001b[39mvalue) \u001b[39mfrom\u001b[39;00m \u001b[39mNone\u001b[39;00m\n",
      "\u001b[1;31mJSONDecodeError\u001b[0m: Expecting property name enclosed in double quotes: line 2 column 3 (char 3)"
     ]
    }
   ],
   "source": [
    "import json\n",
    "\n",
    "# Your JSON data\n",
    "json_data = '''\n",
    "{ ... }  # Your JSON data goes here\n",
    "'''\n",
    "\n",
    "# Parse the JSON data\n",
    "data = json.loads(json_data)\n",
    "\n",
    "# Get the team that won the toss and chose to bat or bowl\n",
    "toss_decision = data[\"toss\"][\"decision\"]\n",
    "toss_winner = data[\"toss\"][\"winner\"]\n",
    "\n",
    "# Get the match winner\n",
    "match_winner = data[\"info\"][\"outcome\"][\"winner\"]\n",
    "\n",
    "# Determine the result based on the toss decision and match winner\n",
    "if toss_decision == \"bat\" and match_winner == toss_winner:\n",
    "    print(f\"The team batting first ({toss_winner}) won the match.\")\n",
    "elif toss_decision == \"bowl\" and match_winner != toss_winner:\n",
    "    print(f\"The team bowling first ({toss_winner}) won the match.\")\n",
    "else:\n",
    "    print(\"It's not clear who won based on the provided data.\")"
   ]
  }
 ],
 "metadata": {
  "kernelspec": {
   "display_name": "Python 3",
   "language": "python",
   "name": "python3"
  },
  "language_info": {
   "codemirror_mode": {
    "name": "ipython",
    "version": 3
   },
   "file_extension": ".py",
   "mimetype": "text/x-python",
   "name": "python",
   "nbconvert_exporter": "python",
   "pygments_lexer": "ipython3",
   "version": "3.11.5"
  }
 },
 "nbformat": 4,
 "nbformat_minor": 2
}
